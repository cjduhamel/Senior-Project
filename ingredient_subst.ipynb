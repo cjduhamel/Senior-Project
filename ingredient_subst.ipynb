{
 "cells": [
  {
   "cell_type": "code",
   "execution_count": null,
   "metadata": {},
   "outputs": [],
   "source": [
    "import os\n",
    "import shutil\n",
    "import pandas as pd\n",
    "import kagglehub\n",
    "\n",
    "if not os.path.exists('./data/3A2M/3A2M.csv'):\n",
    "    # Download latest version\n",
    "    path = kagglehub.dataset_download(\"nazmussakibrupol/3a2m-cooking-recipe-dataset\")\n",
    "    shutil.move(path, './data/3A2M')\n",
    "\n",
    "print(path)\n",
    "\n",
    "# Load the data\n",
    "recipe_df = pd.read_csv('./data/3A2M/3A2M.csv')\n",
    "\n",
    "recipe_df = recipe_df.dropna()\n",
    "recipe_df = recipe_df.drop_duplicates()\n",
    "recipe_df = recipe_df.reset_index(drop=True)\n",
    "recipe_df = recipe_df.drop(columns=['Unnamed: 0'])\n",
    "\n",
    "recipe_df.head()"
   ]
  }
 ],
 "metadata": {
  "language_info": {
   "name": "python"
  }
 },
 "nbformat": 4,
 "nbformat_minor": 2
}
